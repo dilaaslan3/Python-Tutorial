{
 "cells": [
  {
   "cell_type": "markdown",
   "metadata": {},
   "source": [
    "### Tuple\n",
    "Tuples are ordered, immutuable (cannot change after creation), allows duplicate elements"
   ]
  },
  {
   "cell_type": "code",
   "execution_count": 2,
   "metadata": {},
   "outputs": [
    {
     "name": "stdout",
     "output_type": "stream",
     "text": [
      "('Dila', 23, \"L'Aquila\")\n",
      "('Dila', 23, \"L'Aquila\")\n",
      "('dila',)\n"
     ]
    }
   ],
   "source": [
    "my_tuple = (\"Dila\", 23, \"L'Aquila\")\n",
    "my_tuple2 = \"Dila\", 23, \"L'Aquila\" #paranthesis are optional if the tuple has more than 1 item\n",
    "my_tuple3 = (\"dila\",) #if the tuple has only one item, we have to put the comma\n",
    "print(my_tuple)\n",
    "print(my_tuple2)\n",
    "print(my_tuple3)"
   ]
  },
  {
   "cell_type": "code",
   "execution_count": 1,
   "metadata": {},
   "outputs": [
    {
     "ename": "NameError",
     "evalue": "name 'my_tuple' is not defined",
     "output_type": "error",
     "traceback": [
      "\u001b[1;31m---------------------------------------------------------------------------\u001b[0m",
      "\u001b[1;31mNameError\u001b[0m                                 Traceback (most recent call last)",
      "\u001b[1;32m<ipython-input-1-5c12ce6030f5>\u001b[0m in \u001b[0;36m<module>\u001b[1;34m\u001b[0m\n\u001b[0;32m      1\u001b[0m \u001b[1;31m#tuple does not support item assignment\u001b[0m\u001b[1;33m\u001b[0m\u001b[1;33m\u001b[0m\u001b[1;33m\u001b[0m\u001b[0m\n\u001b[1;32m----> 2\u001b[1;33m \u001b[0mmy_tuple\u001b[0m\u001b[1;33m[\u001b[0m\u001b[1;36m0\u001b[0m\u001b[1;33m]\u001b[0m \u001b[1;33m=\u001b[0m \u001b[1;34m'Sude'\u001b[0m \u001b[1;31m# this is wrong\u001b[0m\u001b[1;33m\u001b[0m\u001b[1;33m\u001b[0m\u001b[0m\n\u001b[0m",
      "\u001b[1;31mNameError\u001b[0m: name 'my_tuple' is not defined"
     ]
    }
   ],
   "source": [
    "#tuple does not support item assignment\n",
    "my_tuple[0] = 'Sude' # this is wrong"
   ]
  },
  {
   "cell_type": "code",
   "execution_count": 5,
   "metadata": {},
   "outputs": [
    {
     "name": "stdout",
     "output_type": "stream",
     "text": [
      "yes\n"
     ]
    }
   ],
   "source": [
    "if 'Dila' in my_tuple:\n",
    "    print(\"yes\")"
   ]
  },
  {
   "cell_type": "code",
   "execution_count": 6,
   "metadata": {},
   "outputs": [
    {
     "data": {
      "text/plain": [
       "2"
      ]
     },
     "execution_count": 6,
     "metadata": {},
     "output_type": "execute_result"
    }
   ],
   "source": [
    "apple = ('a', 'p', 'p', 'l', 'e')\n",
    "apple.count('p')"
   ]
  },
  {
   "cell_type": "code",
   "execution_count": 8,
   "metadata": {
    "scrolled": true
   },
   "outputs": [
    {
     "name": "stdout",
     "output_type": "stream",
     "text": [
      "['Dila', 23, \"L'Aquila\"]\n",
      "('Dila', 23, \"L'Aquila\")\n"
     ]
    }
   ],
   "source": [
    "#convert to list\n",
    "my_list = list(my_tuple)\n",
    "print(my_list)\n",
    "#convert to tuple\n",
    "tuple2 = tuple(my_list)\n",
    "print(tuple2)"
   ]
  },
  {
   "cell_type": "code",
   "execution_count": 9,
   "metadata": {},
   "outputs": [
    {
     "name": "stdout",
     "output_type": "stream",
     "text": [
      "Dila 23 L'Aquila\n"
     ]
    }
   ],
   "source": [
    "name, age, city = tuple2\n",
    "print(name, age, city)"
   ]
  },
  {
   "cell_type": "code",
   "execution_count": 10,
   "metadata": {},
   "outputs": [
    {
     "name": "stdout",
     "output_type": "stream",
     "text": [
      "1\n",
      "[2, 3, 4, 5]\n",
      "6\n"
     ]
    }
   ],
   "source": [
    "tuple3 = (1,2,3,4,5,6)\n",
    "num1, *nums, last_num = tuple3\n",
    "print(num1)\n",
    "print(nums)\n",
    "print(last_num)"
   ]
  },
  {
   "cell_type": "code",
   "execution_count": 13,
   "metadata": {},
   "outputs": [
    {
     "name": "stdout",
     "output_type": "stream",
     "text": [
      "96 bytes\n",
      "80 bytes\n",
      "0.01677689999996801\n",
      "0.002082299999983661\n"
     ]
    }
   ],
   "source": [
    "#tuples can be more efficient than lists\n",
    "\n",
    "#lists use more memory even have the same items as tuples\n",
    "import sys\n",
    "my_list = [0,1,2, \"dila\", True]\n",
    "my_tuple = (0,1,2, \"dila\", True)\n",
    "print(sys.getsizeof(my_list), \"bytes\")\n",
    "print(sys.getsizeof(my_tuple), \"bytes\")\n",
    "\n",
    "#lists runtime more than tuples runtime\n",
    "import timeit\n",
    "print(timeit.timeit(stmt=\"[0,1,2,3,4,5]\", number=100000))\n",
    "print(timeit.timeit(stmt=\"(0,1,2,3,4,5)\", number=100000))"
   ]
  }
 ],
 "metadata": {
  "kernelspec": {
   "display_name": "Python 3",
   "language": "python",
   "name": "python3"
  },
  "language_info": {
   "codemirror_mode": {
    "name": "ipython",
    "version": 3
   },
   "file_extension": ".py",
   "mimetype": "text/x-python",
   "name": "python",
   "nbconvert_exporter": "python",
   "pygments_lexer": "ipython3",
   "version": "3.8.6"
  }
 },
 "nbformat": 4,
 "nbformat_minor": 4
}
